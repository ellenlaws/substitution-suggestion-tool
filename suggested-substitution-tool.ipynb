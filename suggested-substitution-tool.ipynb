{
 "cells": [
  {
   "cell_type": "code",
   "execution_count": 9,
   "id": "e812386a",
   "metadata": {},
   "outputs": [],
   "source": [
    "## importing packages\n",
    "import pandas as pd\n",
    "import numpy as np\n",
    "\n",
    "## reading csv file\n",
    "subReportDF = pd.read_csv(\"ORDER_REPORT_080622_100000.csv\")\n",
    "\n",
    "## filtering out items where a sub was not offered\n",
    "subReportDF = subReportDF.loc[subReportDF['ORDERS.SUB_OFFERED']]\n",
    "\n",
    "## pivoting dataframe to find what percentage of subbed products were accepted\n",
    "\n",
    "    ## making 'SUB_ACCEPTED' a value which can be quantified when pivoting\n",
    "subReportDF['SUB_ACCEPTED_AS_NUMBER'] = np.where(subReportDF['SUB.SUB_ACCEPTED'], 1, 0)\n",
    "\n",
    "    ## adding a column which allows me to find the total number of times the product was offered as a sub\n",
    "subReportDF['TIMES_SUB_OFFERED'] = 1\n",
    "\n",
    "    ## performing the pivot so we are left with:\n",
    "        ## the sub product_name\n",
    "        ## how many times it was offered as a sub\n",
    "        ## how many times it was accepted as a sub\n",
    "subReportPivotedDF = subReportDF.groupby(['SUB.PRODUCT_NAME'])[['TIMES_SUB_OFFERED']].agg('sum')\n",
    "subReportPivotedDF['TIMES_SUB_ACCEPTED'] = subReportDF.groupby(['SUB.PRODUCT_NAME'])[['SUB_ACCEPTED_AS_NUMBER']].agg('sum')\n",
    "\n",
    "    ## finding how many times item accepted is as a percentage of how many times it was offered,\n",
    "    ## the product with highest percentage should be the one chosen as a sub\n",
    "subReportPivotedDF['SUB_ACCEPTED_AS_PERCENTAGE_OF_SUB_OFFERED'] = subReportPivotedDF['TIMES_SUB_ACCEPTED'] / subReportPivotedDF['TIMES_SUB_OFFERED']\n",
    "\n",
    "    ## sorting data frame so the most accepted product is at the bottom\n",
    "subReportPivotedDF = subReportPivotedDF.sort_values('SUB_ACCEPTED_AS_PERCENTAGE_OF_SUB_OFFERED')\n",
    "\n",
    "## retrieving the substitution most likely to be accepted\n",
    "subProductNameList = subReportPivotedDF.index.tolist()\n",
    "suggestedSubstitution = subProductNameList[-1]"
   ]
  },
  {
   "cell_type": "code",
   "execution_count": 12,
   "id": "9ad7296d",
   "metadata": {},
   "outputs": [
    {
     "data": {
      "text/plain": [
       "'Value Fresh Pineapple'"
      ]
     },
     "execution_count": 12,
     "metadata": {},
     "output_type": "execute_result"
    }
   ],
   "source": [
    "suggestedSubstitution"
   ]
  },
  {
   "cell_type": "code",
   "execution_count": null,
   "id": "0131adf2",
   "metadata": {},
   "outputs": [],
   "source": []
  }
 ],
 "metadata": {
  "kernelspec": {
   "display_name": "Python 3 (ipykernel)",
   "language": "python",
   "name": "python3"
  },
  "language_info": {
   "codemirror_mode": {
    "name": "ipython",
    "version": 3
   },
   "file_extension": ".py",
   "mimetype": "text/x-python",
   "name": "python",
   "nbconvert_exporter": "python",
   "pygments_lexer": "ipython3",
   "version": "3.9.7"
  }
 },
 "nbformat": 4,
 "nbformat_minor": 5
}
